{
 "cells": [
  {
   "cell_type": "markdown",
   "id": "4376aaf5",
   "metadata": {},
   "source": [
    "## Get dataset from matminer datasets"
   ]
  },
  {
   "cell_type": "code",
   "execution_count": 1,
   "id": "9e90353d",
   "metadata": {},
   "outputs": [],
   "source": [
    "#Import modules\n",
    "from matminer.datasets import get_available_datasets\n",
    "from matminer.featurizers.composition.element import ElementFraction\n",
    "from matminer.datasets import get_all_dataset_info\n",
    "from matminer.datasets.dataset_retrieval import load_dataset"
   ]
  },
  {
   "cell_type": "code",
   "execution_count": 2,
   "id": "8257c7c3",
   "metadata": {},
   "outputs": [
    {
     "name": "stdout",
     "output_type": "stream",
     "text": [
      "boltztrap_mp: Effective mass and thermoelectric properties of 8924 compounds in The  Materials Project database that are calculated by the BoltzTraP software package run on the GGA-PBE or GGA+U density functional theory calculation results. The properties are reported at the temperature of 300 Kelvin and the carrier concentration of 1e18 1/cm3.\n",
      "\n",
      "brgoch_superhard_training: 2574 materials used for training regressors that predict shear and bulk modulus.\n",
      "\n",
      "castelli_perovskites: 18,928 perovskites generated with ABX combinatorics, calculating gllbsc band gap and pbe structure, and also reporting absolute band edge positions and heat of formation.\n",
      "\n",
      "citrine_thermal_conductivity: Thermal conductivity of 872 compounds measured experimentally and retrieved from Citrine database from various references. The reported values are measured at various temperatures of which 295 are at room temperature.\n",
      "\n",
      "dielectric_constant: 1,056 structures with dielectric properties, calculated with DFPT-PBE.\n",
      "\n",
      "double_perovskites_gap: Band gap of 1306 double perovskites (a_1-b_1-a_2-b_2-O6) calculated using ﻿Gritsenko, van Leeuwen, van Lenthe and Baerends potential (gllbsc) in GPAW.\n",
      "\n",
      "double_perovskites_gap_lumo: Supplementary lumo data of 55 atoms for the double_perovskites_gap dataset.\n",
      "\n",
      "elastic_tensor_2015: 1,181 structures with elastic properties calculated with DFT-PBE.\n",
      "\n",
      "expt_formation_enthalpy: Experimental formation enthalpies for inorganic compounds, collected from years of calorimetric experiments. There are 1,276 entries in this dataset, mostly binary compounds. Matching mpids or oqmdids as well as the DFT-computed formation energies are also added (if any).\n",
      "\n",
      "expt_formation_enthalpy_kingsbury: Dataset containing experimental standard formation enthalpies for solids. Formation enthalpies were compiled primarily from Kim et al., Kubaschewski, and the NIST JANAF tables (see references). Elements, liquids, and gases were excluded. Data were deduplicated such that each material is associated with a single formation enthalpy value. Refer to Wang et al. (see references) for a complete desciption of the methods used. Materials Project database IDs (mp-ids) were assigned to materials from among computed materials in the Materials Project database (version 2021.03.22) that were 1) not marked 'theoretical', 2) had structures matching at least one ICSD material, and 3) were within 200 meV of the DFT-computed stable energy hull (e_above_hull < 0.2 eV). Among these candidates, we chose the mp-id with the lowest e_above_hull that matched the reported spacegroup (where available).\n",
      "\n",
      "expt_gap: Experimental band gap of 6354 inorganic semiconductors.\n",
      "\n",
      "expt_gap_kingsbury: Identical to the matbench_expt_gap dataset, except that Materials Project database IDs (mp-ids) have been associated with each material using the same method as described for the expt_formation_enthalpy_kingsbury dataset. Columns have also been renamed for consistency with the formation enthalpy data.\n",
      "\n",
      "flla: 3938 structures and computed formation energies from \"Crystal Structure Representations for Machine Learning Models of Formation Energies.\"\n",
      "\n",
      "glass_binary: Metallic glass formation data for binary alloys, collected from various experimental techniques such as melt-spinning or mechanical alloying. This dataset covers all compositions with an interval of 5 at. % in 59 binary systems, containing a total of 5959 alloys in the dataset. The target property of this dataset is the glass forming ability (GFA), i.e. whether the composition can form monolithic glass or not, which is either 1 for glass forming or 0 for non-full glass forming.\n",
      "\n",
      "glass_binary_v2: Identical to glass_binary dataset, but with duplicate entries merged. If there was a disagreement in gfa when merging the class was defaulted to 1.\n",
      "\n",
      "glass_ternary_hipt: Metallic glass formation dataset for ternary alloys, collected from the high-throughput sputtering experiments measuring whether it is possible to form a glass using sputtering. The hipt experimental data are of the Co-Fe-Zr, Co-Ti-Zr, Co-V-Zr and Fe-Ti-Nb ternary systems.\n",
      "\n",
      "glass_ternary_landolt: Metallic glass formation dataset for ternary alloys, collected from the \"Nonequilibrium Phase Diagrams of Ternary Amorphous Alloys,’ a volume of the Landolt– Börnstein collection. This dataset contains experimental measurements of whether it is possible to form a glass using a variety of processing techniques at thousands of compositions from hundreds of ternary systems. The processing techniques are designated in the \"processing\" column. There are originally 7191 experiments in this dataset, will be reduced to 6203 after deduplicated, and will be further reduced to 6118 if combining multiple data for one composition. There are originally 6780 melt-spinning experiments in this dataset, will be reduced to 5800 if deduplicated, and will be further reduced to 5736 if combining multiple experimental data for one composition.\n",
      "\n",
      "heusler_magnetic: 1153 Heusler alloys with DFT-calculated magnetic and electronic properties. The 1153 alloys include 576 full, 449 half and 128 inverse Heusler alloys. The data are extracted and cleaned (including de-duplicating) from Citrine.\n",
      "\n",
      "jarvis_dft_2d: Various properties of 636 2D materials computed with the OptB88vdW and TBmBJ functionals taken from the JARVIS DFT database.\n",
      "\n",
      "jarvis_dft_3d: Various properties of 25,923 bulk materials computed with the OptB88vdW and TBmBJ functionals taken from the JARVIS DFT database.\n",
      "\n",
      "jarvis_ml_dft_training: Various properties of 24,759 bulk and 2D materials computed with the OptB88vdW and TBmBJ functionals taken from the JARVIS DFT database.\n",
      "\n",
      "m2ax: Elastic properties of 223 stable M2AX compounds from \"A comprehensive survey of M2AX phase elastic properties\" by Cover et al. Calculations are PAW PW91.\n",
      "\n",
      "matbench_dielectric: Matbench v0.1 test dataset for predicting refractive index from structure. Adapted from Materials Project database. Removed entries having a formation energy (or energy above the convex hull) more than 150meV and those having refractive indices less than 1 and those containing noble gases. Retrieved April 2, 2019. For benchmarking w/ nested cross validation, the order of the dataset must be identical to the retrieved data; refer to the Automatminer/Matbench publication for more details.\n",
      "\n",
      "matbench_expt_gap: Matbench v0.1 test dataset for predicting experimental band gap from composition alone. Retrieved from Zhuo et al. supplementary information. Deduplicated according to composition, removing compositions with reported band gaps spanning more than a 0.1eV range; remaining compositions were assigned values based on the closest experimental value to the mean experimental value for that composition among all reports. For benchmarking w/ nested cross validation, the order of the dataset must be identical to the retrieved data; refer to the Automatminer/Matbench publication for more details.\n",
      "\n",
      "matbench_expt_is_metal: Matbench v0.1 test dataset for classifying metallicity from composition alone. Retrieved from Zhuo et al. supplementary information. Deduplicated according to composition, ensuring no conflicting reports were entered for any compositions (i.e., no reported compositions were both metal and nonmetal). For benchmarking w/ nested cross validation, the order of the dataset must be identical to the retrieved data; refer to the Automatminer/Matbench publication for more details.\n",
      "\n",
      "matbench_glass: Matbench v0.1 test dataset for predicting full bulk metallic glass formation ability from chemical formula. Retrieved from \"Nonequilibrium Phase Diagrams of Ternary Amorphous Alloys,’ a volume of the Landolt– Börnstein collection. Deduplicated according to composition, ensuring no compositions were reported as both GFA and not GFA (i.e., all reports agreed on the classification designation). For benchmarking w/ nested cross validation, the order of the dataset must be identical to the retrieved data; refer to the Automatminer/Matbench publication for more details.\n",
      "\n",
      "matbench_jdft2d: Matbench v0.1 test dataset for predicting exfoliation energies from crystal structure (computed with the OptB88vdW and TBmBJ functionals). Adapted from the JARVIS DFT database. For benchmarking w/ nested cross validation, the order of the dataset must be identical to the retrieved data; refer to the Automatminer/Matbench publication for more details.\n",
      "\n",
      "matbench_log_gvrh: Matbench v0.1 test dataset for predicting DFT log10 VRH-average shear modulus from structure. Adapted from Materials Project database. Removed entries having a formation energy (or energy above the convex hull) more than 150meV and those having negative G_Voigt, G_Reuss, G_VRH, K_Voigt, K_Reuss, or K_VRH and those failing G_Reuss <= G_VRH <= G_Voigt or K_Reuss <= K_VRH <= K_Voigt and those containing noble gases. Retrieved April 2, 2019. For benchmarking w/ nested cross validation, the order of the dataset must be identical to the retrieved data; refer to the Automatminer/Matbench publication for more details.\n",
      "\n",
      "matbench_log_kvrh: Matbench v0.1 test dataset for predicting DFT log10 VRH-average bulk modulus from structure. Adapted from Materials Project database. Removed entries having a formation energy (or energy above the convex hull) more than 150meV and those having negative G_Voigt, G_Reuss, G_VRH, K_Voigt, K_Reuss, or K_VRH and those failing G_Reuss <= G_VRH <= G_Voigt or K_Reuss <= K_VRH <= K_Voigt and those containing noble gases. Retrieved April 2, 2019. For benchmarking w/ nested cross validation, the order of the dataset must be identical to the retrieved data; refer to the Automatminer/Matbench publication for more details.\n",
      "\n",
      "matbench_mp_e_form: Matbench v0.1 test dataset for predicting DFT formation energy from structure. Adapted from Materials Project database. Removed entries having formation energy more than 2.5eV and those containing noble gases. Retrieved April 2, 2019. For benchmarking w/ nested cross validation, the order of the dataset must be identical to the retrieved data; refer to the Automatminer/Matbench publication for more details.\n",
      "\n",
      "matbench_mp_gap: Matbench v0.1 test dataset for predicting DFT PBE band gap from structure. Adapted from Materials Project database. Removed entries having a formation energy (or energy above the convex hull) more than 150meV and those containing noble gases. Retrieved April 2, 2019. For benchmarking w/ nested cross validation, the order of the dataset must be identical to the retrieved data; refer to the Automatminer/Matbench publication for more details.\n",
      "\n",
      "matbench_mp_is_metal: Matbench v0.1 test dataset for predicting DFT metallicity from structure. Adapted from Materials Project database. Removed entries having a formation energy (or energy above the convex hull) more than 150meV and those containing noble gases. Retrieved April 2, 2019. For benchmarking w/ nested cross validation, the order of the dataset must be identical to the retrieved data; refer to the Automatminer/Matbench publication for more details.\n",
      "\n",
      "matbench_perovskites: Matbench v0.1 test dataset for predicting formation energy from crystal structure. Adapted from an original dataset generated by Castelli et al. For benchmarking w/ nested cross validation, the order of the dataset must be identical to the retrieved data; refer to the Automatminer/Matbench publication for more details.\n",
      "\n",
      "matbench_phonons: Matbench v0.1 test dataset for predicting vibration properties from crystal structure. Original data retrieved from Petretto et al. Original calculations done via ABINIT in the harmonic approximation based on density functional perturbation theory. Removed entries having a formation energy (or energy above the convex hull) more than 150meV. For benchmarking w/ nested cross validation, the order of the dataset must be identical to the retrieved data; refer to the Automatminer/Matbench publication for more details.\n",
      "\n",
      "matbench_steels: Matbench v0.1 test dataset for predicting steel yield strengths from chemical composition alone. Retrieved from Citrine informatics. Deduplicated. For benchmarking w/ nested cross validation, the order of the dataset must be identical to the retrieved data; refer to the Automatminer/Matbench publication for more details.\n",
      "\n",
      "mp_all_20181018: A complete copy of the Materials Project database as of 10/18/2018. mp_all files contain structure data for each material while mp_nostruct does not.\n",
      "\n",
      "mp_nostruct_20181018: A complete copy of the Materials Project database as of 10/18/2018. mp_all files contain structure data for each material while mp_nostruct does not.\n",
      "\n",
      "phonon_dielectric_mp: Phonon (lattice/atoms vibrations) and dielectric properties of 1296 compounds computed via ABINIT software package in the harmonic approximation based on density functional perturbation theory.\n",
      "\n",
      "piezoelectric_tensor: 941 structures with piezoelectric properties, calculated with DFT-PBE.\n",
      "\n",
      "ricci_boltztrap_mp_tabular: Ab-initio electronic transport database for inorganic materials. Complex multivariable BoltzTraP simulation data is condensed down into tabular form of two main motifs: average eigenvalues at set moderate carrier concentrations and temperatures, and optimal values among all carrier concentrations and temperatures within certain ranges. Here are reported the average of the eigenvalues of conductivity effective mass (mₑᶜᵒⁿᵈ), the Seebeck coefficient (S), the conductivity (σ), the electronic thermal conductivity (κₑ), and the Power Factor (PF) at a doping level of 10¹⁸ cm⁻³ and at a temperature of 300 K for n- and p-type. Also, the maximum values for S, σ, PF, and the minimum value for κₑ chosen among the temperatures [100, 1300] K, the doping levels [10¹⁶, 10²¹] cm⁻³, and doping types are reported. The properties that depend on the relaxation time are reported divided by the constant value 10⁻¹⁴. The average of the eigenvalues for all the properties at all the temperatures, doping levels, and doping types are reported in the tables for each entry. Data is indexed by materials project id (mpid)\n",
      "\n",
      "steel_strength: 312 steels with experimental yield strength and ultimate tensile strength, extracted and cleaned (including de-duplicating) from Citrine.\n",
      "\n",
      "wolverton_oxides: 4,914 perovskite oxides containing composition data, lattice constants, and formation + vacancy formation energies. All perovskites are of the form ABO3. Adapted from a dataset presented by Emery and Wolverton.\n",
      "\n",
      "\n",
      "Dataset: boltztrap_mp\n",
      "Description: Effective mass and thermoelectric properties of 8924 compounds in The  Materials Project database that are calculated by the BoltzTraP software package run on the GGA-PBE or GGA+U density functional theory calculation results. The properties are reported at the temperature of 300 Kelvin and the carrier concentration of 1e18 1/cm3.\n",
      "Columns:\n",
      "\tformula: Chemical formula of the entry\n",
      "\tm_n: n-type/conduction band effective mass. Units: m_e where m_e is the mass of an electron; i.e. m_n is a unitless ratio\n",
      "\tm_p: p-type/valence band effective mass.\n",
      "\tmpid: Materials Project identifier\n",
      "\tpf_n: n-type thermoelectric power factor in uW/cm2.K where uW is microwatts and a constant relaxation time of 1e-14 assumed.\n",
      "\tpf_p: p-type power factor in uW/cm2.K\n",
      "\ts_n: n-type Seebeck coefficient in micro Volts per Kelvin\n",
      "\ts_p: p-type Seebeck coefficient in micro Volts per Kelvin\n",
      "\tstructure: pymatgen Structure object describing the crystal structure of the material\n",
      "Num Entries: 8924\n",
      "Reference: Ricci, F. et al. An ab initio electronic transport database for inorganic materials. Sci. Data 4:170085 doi: 10.1038/sdata.2017.85 (2017).\n",
      "Ricci F, Chen W, Aydemir U, Snyder J, Rignanese G, Jain A, Hautier G (2017) Data from: An ab initio electronic transport database for inorganic materials. Dryad Digital Repository. https://doi.org/10.5061/dryad.gn001\n",
      "Bibtex citations: ['@Article{Ricci2017,\\nauthor={Ricci, Francesco\\nand Chen, Wei\\nand Aydemir, Umut\\nand Snyder, G. Jeffrey\\nand Rignanese, Gian-Marco\\nand Jain, Anubhav\\nand Hautier, Geoffroy},\\ntitle={An ab initio electronic transport database for inorganic materials},\\njournal={Scientific Data},\\nyear={2017},\\nmonth={Jul},\\nday={04},\\npublisher={The Author(s)},\\nvolume={4},\\npages={170085},\\nnote={Data Descriptor},\\nurl={http://dx.doi.org/10.1038/sdata.2017.85}\\n}', '@misc{dryad_gn001,\\ntitle = {Data from: An ab initio electronic transport database for inorganic materials},\\nauthor = {Ricci, F and Chen, W and Aydemir, U and Snyder, J and Rignanese, G and Jain, A and Hautier, G},\\nyear = {2017},\\njournal = {Scientific Data},\\nURL = {https://doi.org/10.5061/dryad.gn001},\\ndoi = {doi:10.5061/dryad.gn001},\\npublisher = {Dryad Digital Repository}\\n}']\n",
      "File type: json.gz\n",
      "Figshare URL: https://ndownloader.figshare.com/files/13297511\n",
      "SHA256 Hash Digest: 02c8ea59a3805cdd50aef6f6f55c3d0148eda9e5cab871ff37d2fa46fb5941d7\n",
      "\n",
      "\n"
     ]
    }
   ],
   "source": [
    "get_available_datasets() #Get all information for available datasets in matminer\n",
    "print(get_all_dataset_info(\"boltztrap_mp\")) #get informationn for a specific dataset"
   ]
  },
  {
   "cell_type": "code",
   "execution_count": 3,
   "id": "5520002e",
   "metadata": {},
   "outputs": [
    {
     "name": "stderr",
     "output_type": "stream",
     "text": [
      "ElementFraction: 100%|██████████| 2574/2574 [00:02<00:00, 898.59it/s] "
     ]
    },
    {
     "name": "stdout",
     "output_type": "stream",
     "text": [
      "composition for Al is 0.25, composition for Pt is 0.75 in AlPt3 \n"
     ]
    },
    {
     "name": "stderr",
     "output_type": "stream",
     "text": [
      "\n"
     ]
    }
   ],
   "source": [
    "ef = ElementFraction()\n",
    "df = load_dataset(\"brgoch_superhard_training\") #Load \"brgoch_superhard_training\" dataset\n",
    "df = ef.featurize_dataframe(df, \"composition\") #Featurize \"composition\"\n",
    "print('composition for Al is {}, composition for Pt is {} in AlPt3 '.format(df['Al'][0],df['Pt'][0])) #Get the composition of AlPt3"
   ]
  },
  {
   "cell_type": "markdown",
   "id": "f8ff2c3e",
   "metadata": {},
   "source": [
    "## Retrive dataset from materials project"
   ]
  },
  {
   "cell_type": "code",
   "execution_count": 24,
   "id": "cbb11ea8",
   "metadata": {},
   "outputs": [
    {
     "data": {
      "application/vnd.jupyter.widget-view+json": {
       "model_id": "f668767adda9470eac7124e4fc3bc018",
       "version_major": 2,
       "version_minor": 0
      },
      "text/plain": [
       "  0%|          | 0/19282 [00:00<?, ?it/s]"
      ]
     },
     "metadata": {},
     "output_type": "display_data"
    }
   ],
   "source": [
    "from matminer.data_retrieval.retrieve_MP import MPDataRetrieval\n",
    "mpdr = MPDataRetrieval(\"tqUlQrOc9T8stc6yWMK\") #Or mpr = MPRester(\"your_api_key\")\n",
    "df = mpdr.get_dataframe(criteria={\"nelements\": 2}\n",
    "                        ,properties=[\"pretty_formula\",\"formation_energy_per_atom\"] #Properties:https://github.com/materialsproject/mapidoc/tree/master/materials\n",
    "                        , index_mpid=False\n",
    "                       )"
   ]
  },
  {
   "cell_type": "code",
   "execution_count": 47,
   "id": "0301c1b4",
   "metadata": {},
   "outputs": [
    {
     "data": {
      "application/vnd.jupyter.widget-view+json": {
       "model_id": "fb66d77bc866433f9e1c4dc343559ca0",
       "version_major": 2,
       "version_minor": 0
      },
      "text/plain": [
       "StrToComposition:   0%|          | 0/19282 [00:00<?, ?it/s]"
      ]
     },
     "metadata": {},
     "output_type": "display_data"
    }
   ],
   "source": [
    "from matminer.featurizers.conversions import StrToComposition\n",
    "df = df.rename(columns={\"pretty_formula\":\"composition\",\"formation_energy_per_atom\":\"formation_energy\"})\n",
    "data_raw = StrToComposition(target_col_id='composition_obj').featurize_dataframe(df, 'composition')"
   ]
  },
  {
   "cell_type": "code",
   "execution_count": 48,
   "id": "c3b061c1",
   "metadata": {},
   "outputs": [
    {
     "data": {
      "application/vnd.jupyter.widget-view+json": {
       "model_id": "68d347d98e004ecc95d5d8bdc4cf2577",
       "version_major": 2,
       "version_minor": 0
      },
      "text/plain": [
       "MultipleFeaturizer:   0%|          | 0/19282 [00:00<?, ?it/s]"
      ]
     },
     "metadata": {},
     "output_type": "display_data"
    }
   ],
   "source": [
    "from matminer.featurizers.base import MultipleFeaturizer\n",
    "from matminer.featurizers import composition as cf\n",
    "feature_calculators = MultipleFeaturizer([cf.Stoichiometry()\n",
    "                                          , cf.ElementProperty.from_preset(\"magpie\")\n",
    "                                          ,cf.ValenceOrbital(props=['avg'])\n",
    "                                          , cf.IonProperty(fast=True)]\n",
    "                                        ) #All features\n",
    "feature_lables = feature_calculators.feature_labels() #Get labels of all generated features\n",
    "data = data_raw\n",
    "data = feature_calculators.featurize_dataframe(data, col_id='composition_obj')\n",
    "data = data[feature_lables]"
   ]
  },
  {
   "cell_type": "code",
   "execution_count": 52,
   "id": "a921b339",
   "metadata": {},
   "outputs": [],
   "source": [
    "from sklearn.decomposition import PCA \n",
    "explained_variance_ratio = []\n",
    "for i in range(1,10): #Change n_components. Find an appropriate number of components that can represent most of the dataset and reduce computation time \n",
    "    pca = PCA(n_components=i)\n",
    "    pca.fit(data)\n",
    "    explained_variance_ratio.append(pca.explained_variance_ratio_.sum())"
   ]
  },
  {
   "cell_type": "code",
   "execution_count": 53,
   "id": "47890951",
   "metadata": {},
   "outputs": [
    {
     "data": {
      "image/png": "[encoded data removed]",
      "text/plain": [
       "<Figure size 432x288 with 1 Axes>"
      ]
     },
     "metadata": {
      "needs_background": "light"
     },
     "output_type": "display_data"
    }
   ],
   "source": [
    "import matplotlib.pyplot as plt\n",
    "fig, ax1 = plt.subplots() #Plot the sum of explained_variance_ratio for different n_components\n",
    "color = 'lightseagreen'\n",
    "ax1.set_xlabel('n_components', fontsize=12)\n",
    "ax1.set_ylabel('sum of explained_variance_ratio', fontsize=12, labelpad=15)\n",
    "ax1.scatter(range(1,len(explained_variance_ratio)+1), explained_variance_ratio, color=color)\n",
    "plt.show() #From the plot, 9 components can represent the dataset."
   ]
  },
  {
   "cell_type": "code",
   "execution_count": 54,
   "id": "1a6a0477",
   "metadata": {},
   "outputs": [],
   "source": [
    "from sklearn.model_selection import train_test_split #Split dataset to test and train set\n",
    "pca = PCA(n_components=9)\n",
    "X_train_pca, X_test_pca, y_train_pca, y_test_pca = train_test_split(pca.fit_transform(data), df[\"formation_energy\"], test_size=0.3, random_state=42)\n",
    "X_train,X_test,y_train,y_test = train_test_split(data, df[\"formation_energy\"], test_size=0.3, random_state=42)"
   ]
  },
  {
   "cell_type": "code",
   "execution_count": 55,
   "id": "bc5dc768",
   "metadata": {},
   "outputs": [
    {
     "name": "stdout",
     "output_type": "stream",
     "text": [
      "0.21553607373823966\n",
      "0.5367425563868605\n"
     ]
    }
   ],
   "source": [
    "from sklearn.linear_model import LinearRegression #Run the linear regression model to see the results\n",
    "from sklearn.metrics import mean_squared_error\n",
    "lr = LinearRegression().fit(X_train_pca,y_train_pca)\n",
    "lr_ = LinearRegression().fit(X_train,y_train)\n",
    "y_pred_pca = lr.predict(X_test_pca)\n",
    "y_pred = lr_.predict(X_test)\n",
    "print(mean_squared_error(y_test,y_pred))\n",
    "print(mean_squared_error(y_test_pca,y_pred_pca))"
   ]
  },
  {
   "cell_type": "code",
   "execution_count": 56,
   "id": "ed8dbe2d",
   "metadata": {},
   "outputs": [
    {
     "data": {
      "image/png": "[encoded data removed]",
      "text/plain": [
       "<Figure size 432x288 with 1 Axes>"
      ]
     },
     "metadata": {
      "needs_background": "light"
     },
     "output_type": "display_data"
    },
    {
     "data": {
      "image/png": "[encoded data removed]",
      "text/plain": [
       "<Figure size 432x288 with 1 Axes>"
      ]
     },
     "metadata": {
      "needs_background": "light"
     },
     "output_type": "display_data"
    }
   ],
   "source": [
    "import matplotlib.pyplot as plt #Plot the results of linear regression\n",
    "fig, ax1 = plt.subplots() #Plot y_pred and y_test\n",
    "ax1.set_xlabel('y_test_pca', fontsize=12)\n",
    "ax1.set_ylabel('y_pred_pca', fontsize=12, labelpad=15)\n",
    "ax1.scatter(y_test_pca, y_pred_pca, color=\"red\", s=2)\n",
    "ax1.set_title(\"Results for linear regression(PCA)\")\n",
    "ax1.plot(ax1.get_xlim(), ax1.get_xlim(), 'k--') #Dashed line shows y_pred == y_test\n",
    "\n",
    "fig, ax2 = plt.subplots() #Plot y_pred and y_test\n",
    "ax2.set_xlabel('y_test', fontsize=12)\n",
    "ax2.set_ylabel('y_pred', fontsize=12, labelpad=15)\n",
    "ax2.scatter(y_test, y_pred, color=\"red\", s=2)\n",
    "ax2.set_title(\"Results for linear regression\")\n",
    "ax2.plot(ax1.get_xlim(), ax1.get_xlim(), 'k--') #Dashed line shows y_pred == y_test\n",
    "plt.show()"
   ]
  },
  {
   "cell_type": "code",
   "execution_count": null,
   "id": "314ccbf9",
   "metadata": {},
   "outputs": [],
   "source": []
  },
  {
   "cell_type": "code",
   "execution_count": null,
   "id": "c0e5648c",
   "metadata": {},
   "outputs": [],
   "source": []
  }
 ],
 "metadata": {
  "kernelspec": {
   "display_name": "Python 3",
   "language": "python",
   "name": "python3"
  },
  "language_info": {
   "codemirror_mode": {
    "name": "ipython",
    "version": 3
   },
   "file_extension": ".py",
   "mimetype": "text/x-python",
   "name": "python",
   "nbconvert_exporter": "python",
   "pygments_lexer": "ipython3",
   "version": "3.8.8"
  }
 },
 "nbformat": 4,
 "nbformat_minor": 5
}
